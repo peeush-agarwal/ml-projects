{
  "nbformat": 4,
  "nbformat_minor": 0,
  "metadata": {
    "colab": {
      "name": "Multiclass classification.ipynb",
      "provenance": [],
      "private_outputs": true,
      "collapsed_sections": [],
      "authorship_tag": "ABX9TyOZCrRXewlSNytFVQ4lzrRI",
      "include_colab_link": true
    },
    "kernelspec": {
      "name": "python3",
      "display_name": "Python 3"
    }
  },
  "cells": [
    {
      "cell_type": "markdown",
      "metadata": {
        "id": "view-in-github",
        "colab_type": "text"
      },
      "source": [
        "<a href=\"https://colab.research.google.com/github/peeush-agarwal/ml-projects/blob/master/Iris_dataset/Multiclass_classification.ipynb\" target=\"_parent\"><img src=\"https://colab.research.google.com/assets/colab-badge.svg\" alt=\"Open In Colab\"/></a>"
      ]
    },
    {
      "cell_type": "code",
      "metadata": {
        "id": "ZZJ4BoQsxsY_",
        "colab_type": "code",
        "colab": {}
      },
      "source": [
        "# importing necessary libraries \n",
        "from sklearn import datasets\n",
        "from sklearn.metrics import confusion_matrix\n",
        "from sklearn.model_selection import train_test_split\n",
        "from sklearn.tree import DecisionTreeClassifier\n",
        "from sklearn.svm import SVC \n",
        "from sklearn.neighbors import KNeighborsClassifier\n",
        "from sklearn.naive_bayes import GaussianNB"
      ],
      "execution_count": 0,
      "outputs": []
    },
    {
      "cell_type": "code",
      "metadata": {
        "id": "TCZNO71myjA-",
        "colab_type": "code",
        "colab": {}
      },
      "source": [
        "# loading the iris dataset \n",
        "iris = datasets.load_iris()"
      ],
      "execution_count": 0,
      "outputs": []
    },
    {
      "cell_type": "code",
      "metadata": {
        "id": "PfqEWk7ry9RS",
        "colab_type": "code",
        "colab": {}
      },
      "source": [
        "# X -> features, y -> label \n",
        "X = iris.data\n",
        "y = iris.target"
      ],
      "execution_count": 0,
      "outputs": []
    },
    {
      "cell_type": "code",
      "metadata": {
        "id": "27UpraNzzSMP",
        "colab_type": "code",
        "colab": {}
      },
      "source": [
        "# dividing X, y into train and test data \n",
        "X_train, X_test, y_train, y_test = train_test_split(X, y, random_state = 0)"
      ],
      "execution_count": 0,
      "outputs": []
    },
    {
      "cell_type": "code",
      "metadata": {
        "id": "_nPB0MfQ1orA",
        "colab_type": "code",
        "colab": {}
      },
      "source": [
        "def get_decision_tree_algo():\n",
        "    return DecisionTreeClassifier(max_depth = 2)\n",
        "\n",
        "def get_svm_algo():\n",
        "    return SVC(kernel = 'linear', C = 1)\n",
        "\n",
        "def get_knn_algo():\n",
        "    return KNeighborsClassifier(n_neighbors = 7)\n",
        "\n",
        "def get_gnb_algo():\n",
        "    return GaussianNB()\n",
        "\n",
        "def get_training_algo(algo_name):\n",
        "    if algo_name == 'DT': # Decision Tree\n",
        "        return get_decision_tree_algo() \n",
        "    elif algo_name == 'SVM': # Support Vector Machine\n",
        "        return get_svm_algo()\n",
        "    elif algo_name == 'KNN': # K-Nearest Neighbor\n",
        "        return get_knn_algo()\n",
        "    elif algo_name == 'GNB': # Gaussian Naive Baye's\n",
        "        return get_gnb_algo()\n",
        "    else:\n",
        "        raise ValueError(f'{algo_name} is not valid algo')"
      ],
      "execution_count": 0,
      "outputs": []
    },
    {
      "cell_type": "code",
      "metadata": {
        "id": "AXRSKukC3qlr",
        "colab_type": "code",
        "colab": {}
      },
      "source": [
        "# Run for each model\n",
        "def display_conf_matrix(algo_name):\n",
        "    algo = get_training_algo(algo_name)\n",
        "    \n",
        "    # training\n",
        "    model = algo.fit(X_train, y_train)\n",
        " \n",
        "    # accuracy on X_test \n",
        "    accuracy = algo.score(X_test, y_test) \n",
        "    \n",
        "    # Predictions for test dataset (unseen dataset)\n",
        "    predictions = model.predict(X_test)\n",
        "\n",
        "    # creating a confusion matrix \n",
        "    cm = confusion_matrix(y_test, predictions)\n",
        "    print('ALGO: '+algo_name)\n",
        "    print(f'Accuracy: {accuracy:.2f}')\n",
        "    print('Confusion Matrix:')\n",
        "    print(cm)\n",
        "    print('-----')"
      ],
      "execution_count": 0,
      "outputs": []
    },
    {
      "cell_type": "code",
      "metadata": {
        "id": "4xBsZ4NEzVw4",
        "colab_type": "code",
        "colab": {}
      },
      "source": [
        "algos = ['DT', 'SVM', 'KNN', 'GNB']\n",
        "for algo in algos:\n",
        "    display_conf_matrix(algo)"
      ],
      "execution_count": 0,
      "outputs": []
    },
    {
      "cell_type": "code",
      "metadata": {
        "id": "g_Q5kPmKzg27",
        "colab_type": "code",
        "colab": {}
      },
      "source": [
        ""
      ],
      "execution_count": 0,
      "outputs": []
    }
  ]
}